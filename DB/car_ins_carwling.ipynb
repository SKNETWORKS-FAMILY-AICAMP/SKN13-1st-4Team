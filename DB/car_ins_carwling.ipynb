{
 "cells": [
  {
   "cell_type": "code",
   "execution_count": 6,
   "id": "eeca5489-5e02-48bf-bcc4-0b559cf7310c",
   "metadata": {},
   "outputs": [
    {
     "name": "stderr",
     "output_type": "stream",
     "text": [
      "C:\\Users\\Playdata\\AppData\\Local\\miniconda3\\Lib\\site-packages\\urllib3\\connectionpool.py:1097: InsecureRequestWarning: Unverified HTTPS request is being made to host 'kpub.knia.or.kr'. Adding certificate verification is strongly advised. See: https://urllib3.readthedocs.io/en/latest/advanced-usage.html#tls-warnings\n",
      "  warnings.warn(\n"
     ]
    },
    {
     "name": "stdout",
     "output_type": "stream",
     "text": [
      "['구분', '회사명', '특약명', '가입조건', '판매채널', '할인율', '할인율']\n",
      "['적용담보(자동차상해 및담보별 확장특약 포함기준)', '할인율(%)ascdesc']\n"
     ]
    }
   ],
   "source": [
    "import requests\n",
    "import lxml\n",
    "from bs4 import BeautifulSoup\n",
    "import pandas as pd\n",
    "\n",
    "url = \"https://kpub.knia.or.kr/carInsuranceDisc/specialTerms/specialTerms.do\"\n",
    "res = requests.get(url, verify = False)\n",
    "db_html = res.text\n",
    "\n",
    "soup = BeautifulSoup(db_html, 'lxml')\n",
    "table_div = soup.find_all('table')[1]\n",
    "thead_rows = table_div.find(\"thead\").find_all(\"tr\")\n",
    "headers = []\n",
    "\n",
    "for th in thead_rows[0].find_all(\"th\"):\n",
    "    text = th.get_text(strip=True)\n",
    "    colspan = th.get(\"colspan\")\n",
    "    if colspan:\n",
    "        headers.extend([text] * int(colspan))\n",
    "    else:\n",
    "        headers.append(text)\n",
    "\n",
    "# 두 번째 줄 헤더 반영\n",
    "sub_headers = [th.get_text(strip=True) for th in thead_rows[1].find_all(\"th\")]\n",
    "\n",
    "# 헤더 병합\n",
    "print(headers)\n",
    "print(sub_headers)\n",
    "headers[5] = sub_headers[0]\n",
    "headers[-1] = sub_headers[1]\n",
    "headers\n",
    "\n",
    "\n",
    "# 3. 데이터 추출\n",
    "data_rows = []\n",
    "for row in table_div.find(\"tbody\").find_all(\"tr\"):\n",
    "    cols = [td.get_text(strip=True) for td in row.find_all([\"td\", \"th\"])]\n",
    "    data_rows.append(cols)\n",
    "\n",
    "# 4. DataFrame으로 만들기\n",
    "df = pd.DataFrame(data_rows, columns=headers)\n",
    "\n",
    "# 5. CSV로 출력\n",
    "df.to_csv(\"car_ins.csv\", index=False, encoding='utf-8-sig')"
   ]
  },
  {
   "cell_type": "code",
   "execution_count": null,
   "id": "6cf1ce1e-0793-40e5-9b57-45a31d98ddc2",
   "metadata": {},
   "outputs": [],
   "source": []
  }
 ],
 "metadata": {
  "kernelspec": {
   "display_name": "Python 3 (ipykernel)",
   "language": "python",
   "name": "python3"
  },
  "language_info": {
   "codemirror_mode": {
    "name": "ipython",
    "version": 3
   },
   "file_extension": ".py",
   "mimetype": "text/x-python",
   "name": "python",
   "nbconvert_exporter": "python",
   "pygments_lexer": "ipython3",
   "version": "3.12.9"
  }
 },
 "nbformat": 4,
 "nbformat_minor": 5
}
