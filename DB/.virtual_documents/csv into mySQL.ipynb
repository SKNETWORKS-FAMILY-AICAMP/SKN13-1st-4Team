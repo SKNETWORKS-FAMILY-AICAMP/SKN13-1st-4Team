%pip install sqlalchemy


import pandas as pd
from sqlalchemy import create_engine

# CSV 파일 경로
csv_file = 'car_ins.csv'

# CSV 파일 읽기
df = pd.read_csv(csv_file)

# MySQL 접속 정보
username = 'SKN13_1st_4Team'
password = '1111'
host = '127.0.0.1'
port = '3306'
database = 'car_insurance'
table_name = 'car_ins'

# SQLAlchemy 엔진 생성
engine = create_engine(f'mysql+pymysql://{username}:{password}@{host}:{port}/{database}')

# 데이터프레임을 MySQL 테이블로 저장 (기존 테이블에 덮어쓰기: if_exists='replace')
df.to_sql(name=table_name, con=engine, if_exists='replace', index=False)

print("CSV 파일이 MySQL로 업로드되었습니다.")



import pandas as pd
from sqlalchemy import create_engine

# CSV 파일 경로
csv_file = 'car_ins_com.csv'

# CSV 파일 읽기
df = pd.read_csv(csv_file)

# MySQL 접속 정보
username = 'SKN13_1st_4Team'
password = '1111'
host = '127.0.0.1'
port = '3306'
database = 'car_insurance'
table_name = 'car_ins_com'

# SQLAlchemy 엔진 생성
engine = create_engine(f'mysql+pymysql://{username}:{password}@{host}:{port}/{database}')

# 데이터프레임을 MySQL 테이블로 저장 (기존 테이블에 덮어쓰기: if_exists='replace')
df.to_sql(name=table_name, con=engine, if_exists='replace', index=False)

print("CSV 파일이 MySQL로 업로드되었습니다.")




